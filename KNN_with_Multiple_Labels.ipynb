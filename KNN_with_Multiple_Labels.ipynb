{
  "nbformat": 4,
  "nbformat_minor": 0,
  "metadata": {
    "colab": {
      "name": "KNN with Multiple Labels",
      "provenance": [],
      "collapsed_sections": [],
      "include_colab_link": true
    },
    "kernelspec": {
      "name": "python3",
      "display_name": "Python 3"
    }
  },
  "cells": [
    {
      "cell_type": "markdown",
      "metadata": {
        "id": "view-in-github",
        "colab_type": "text"
      },
      "source": [
        "<a href=\"https://colab.research.google.com/github/Aftabalamrana/CT5102/blob/master/KNN_with_Multiple_Labels.ipynb\" target=\"_parent\"><img src=\"https://colab.research.google.com/assets/colab-badge.svg\" alt=\"Open In Colab\"/></a>"
      ]
    },
    {
      "cell_type": "markdown",
      "metadata": {
        "id": "pGmr0qN3rZhN",
        "colab_type": "text"
      },
      "source": [
        "**Goal:** \n",
        "To predict the location of a company based on historical data"
      ]
    },
    {
      "cell_type": "markdown",
      "metadata": {
        "id": "tggd6U_I2EFx",
        "colab_type": "text"
      },
      "source": [
        "# Imports & Load Data"
      ]
    },
    {
      "cell_type": "code",
      "metadata": {
        "id": "okO1lFtP2CIB",
        "colab_type": "code",
        "colab": {}
      },
      "source": [
        "# from google.colab import drive\n",
        "# drive.mount('/content/drive')"
      ],
      "execution_count": 0,
      "outputs": []
    },
    {
      "cell_type": "code",
      "metadata": {
        "id": "GT1zqOUTqdDt",
        "colab_type": "code",
        "colab": {}
      },
      "source": [
        "# !pip install reverse_geocoder\n",
        "# import libraries\n",
        "import io\n",
        "import pandas as pd\n",
        "import numpy as np\n",
        "import matplotlib.pyplot as plt\n",
        "import keras\n",
        "from keras.wrappers.scikit_learn import KerasClassifier\n",
        "from keras.models import Sequential\n",
        "from keras.layers import Dense\n",
        "from sklearn import preprocessing\n",
        "from sklearn.preprocessing import StandardScaler\n",
        "from sklearn.model_selection import train_test_split\n",
        "from sklearn.model_selection import cross_val_score\n",
        "from sklearn.model_selection import KFold\n",
        "from sklearn.preprocessing import MinMaxScaler\n",
        "from sklearn.ensemble import RandomForestClassifier\n",
        "from keras.utils import np_utils\n",
        "from sklearn.preprocessing import LabelEncoder\n",
        "from sklearn.neighbors import KNeighborsClassifier\n",
        "from sklearn import metrics\n",
        "# import seaborn as sns\n",
        "# import reverse_geocoder as revgc"
      ],
      "execution_count": 0,
      "outputs": []
    },
    {
      "cell_type": "code",
      "metadata": {
        "id": "j5CBf6AhdLx9",
        "colab_type": "code",
        "colab": {}
      },
      "source": [
        "seed = 10\n",
        "np.random.seed(seed)\n",
        "pd.set_option('display.expand_frame_repr', False) # to display all columns"
      ],
      "execution_count": 0,
      "outputs": []
    },
    {
      "cell_type": "markdown",
      "metadata": {
        "id": "LP3YEua_ycik",
        "colab_type": "text"
      },
      "source": [
        "**Dataset Information (columns)**: \n",
        "1. **LAT**:\n",
        "2. **LNG**:\n",
        "3. **COUNT**: always 1\n",
        "4. **COMPANY_STATUS_YM**:\n",
        "5. **COMPANY_REG_YM**:\n",
        "6. **COMPANY_NUM**: unique for all rows (pk)\n",
        "7. **COMPANY_NAME**:  unique for all rows (pk)\n",
        "8. **ADDRESS**:\n",
        "9. **COUNTY**:\n",
        "10. **PHONE**: optional field, mostly null\n",
        "11. **WEBSITE**: optional field, mostly null\n",
        "12. **COMPANY_STATUS_CODE**:\n",
        "13. **COMPANY_TYPE_CODE**:\n",
        "14. **SIZE**: 0,1,2,3,4\n",
        "15. **EMPLOYEE**: optional field, mostly null\n",
        "16. **INDUSTRY**: around 800 indusltries"
      ]
    },
    {
      "cell_type": "code",
      "metadata": {
        "id": "dU0xc6yMHHlj",
        "colab_type": "code",
        "outputId": "5239061c-3629-4b93-a48e-932f7c095e12",
        "colab": {
          "base_uri": "https://localhost:8080/",
          "height": 202
        }
      },
      "source": [
        "# Load data all data\n",
        "original_df = pd.read_csv('/content/ml_data.csv') \n",
        "print('original dataframe shape: ', original_df.shape)\n",
        "\n",
        "original_df.head(1)"
      ],
      "execution_count": 56,
      "outputs": [
        {
          "output_type": "stream",
          "text": [
            "original dataframe shape:  (64826, 16)\n"
          ],
          "name": "stdout"
        },
        {
          "output_type": "execute_result",
          "data": {
            "text/html": [
              "<div>\n",
              "<style scoped>\n",
              "    .dataframe tbody tr th:only-of-type {\n",
              "        vertical-align: middle;\n",
              "    }\n",
              "\n",
              "    .dataframe tbody tr th {\n",
              "        vertical-align: top;\n",
              "    }\n",
              "\n",
              "    .dataframe thead th {\n",
              "        text-align: right;\n",
              "    }\n",
              "</style>\n",
              "<table border=\"1\" class=\"dataframe\">\n",
              "  <thead>\n",
              "    <tr style=\"text-align: right;\">\n",
              "      <th></th>\n",
              "      <th>LAT</th>\n",
              "      <th>LNG</th>\n",
              "      <th>COUNT</th>\n",
              "      <th>COMPANY_STATUS_YM</th>\n",
              "      <th>COMPANY_REG_YM</th>\n",
              "      <th>COMPANY_NUM</th>\n",
              "      <th>COMPANY_NAME</th>\n",
              "      <th>ADDRESS</th>\n",
              "      <th>COUNTY</th>\n",
              "      <th>PHONE</th>\n",
              "      <th>WEBSITE</th>\n",
              "      <th>COMPANY_STATUS_CODE</th>\n",
              "      <th>COMPANY_TYPE_CODE</th>\n",
              "      <th>SIZE</th>\n",
              "      <th>EMPLOYEE</th>\n",
              "      <th>INDUSTRY</th>\n",
              "    </tr>\n",
              "  </thead>\n",
              "  <tbody>\n",
              "    <tr>\n",
              "      <th>0</th>\n",
              "      <td>54.763626</td>\n",
              "      <td>-8.410592</td>\n",
              "      <td>1</td>\n",
              "      <td>199001</td>\n",
              "      <td>199901</td>\n",
              "      <td>4929</td>\n",
              "      <td>ARDARA WOOLLLEN AND INDUSTRIAL COMPANY LIMITED</td>\n",
              "      <td>Ardara, co donegal</td>\n",
              "      <td>donegal</td>\n",
              "      <td>NaN</td>\n",
              "      <td>NaN</td>\n",
              "      <td>8</td>\n",
              "      <td>0</td>\n",
              "      <td>4</td>\n",
              "      <td>NaN</td>\n",
              "      <td>unknown</td>\n",
              "    </tr>\n",
              "  </tbody>\n",
              "</table>\n",
              "</div>"
            ],
            "text/plain": [
              "         LAT       LNG  COUNT  COMPANY_STATUS_YM  COMPANY_REG_YM  COMPANY_NUM                                    COMPANY_NAME             ADDRESS   COUNTY PHONE WEBSITE  COMPANY_STATUS_CODE  COMPANY_TYPE_CODE  SIZE  EMPLOYEE INDUSTRY\n",
              "0  54.763626 -8.410592      1             199001          199901         4929  ARDARA WOOLLLEN AND INDUSTRIAL COMPANY LIMITED  Ardara, co donegal  donegal   NaN     NaN                    8                  0     4       NaN  unknown"
            ]
          },
          "metadata": {
            "tags": []
          },
          "execution_count": 56
        }
      ]
    },
    {
      "cell_type": "markdown",
      "metadata": {
        "id": "WbRuf6AZn6A_",
        "colab_type": "text"
      },
      "source": [
        "# Exploring Data"
      ]
    },
    {
      "cell_type": "code",
      "metadata": {
        "id": "Jnkv2hxfrAMZ",
        "colab_type": "code",
        "colab": {}
      },
      "source": [
        "# print(original_df.isna().sum()) # Check missing values"
      ],
      "execution_count": 0,
      "outputs": []
    },
    {
      "cell_type": "code",
      "metadata": {
        "id": "uQLVn8lOOm00",
        "colab_type": "code",
        "outputId": "1940bfa7-f852-4ae0-d4b2-b9b4eb55a551",
        "colab": {
          "base_uri": "https://localhost:8080/",
          "height": 190
        }
      },
      "source": [
        "# drop some fields for now\n",
        "# Remove missing values IF AVAILABLE and print first 10 samples\n",
        "# df = df.dropna()\n",
        "# print(df.shape)\n",
        "df = original_df.drop([\n",
        "              # 'LAT', \n",
        "              # 'LNG',\n",
        "              'COUNT',\n",
        "              'COMPANY_STATUS_YM', \n",
        "              'COMPANY_REG_YM',\n",
        "              'COMPANY_NUM', \n",
        "              'COMPANY_NAME',\n",
        "              # 'ADDRESS',\n",
        "              # 'COUNTY',\n",
        "              'PHONE',\n",
        "              'WEBSITE',\n",
        "              # 'COMPANY_STATUS_CODE',\n",
        "              # 'COMPANY_TYPE_CODE',\n",
        "              # 'SIZE',\n",
        "              'EMPLOYEE',\n",
        "              # 'INDUSTRY'\n",
        "              ], axis=1)\n",
        "\n",
        "# remove where size or industry is unknow\n",
        "# df = df.loc[(df['SIZE'] != 4) & (df['INDUSTRY'] != 'unknown')]\n",
        "# df = df.loc[(df['SIZE'] != 4)] # size === 4 is unknow IT will be change in next version of data\n",
        "# df = df.loc[(df['INDUSTRY'] != 'unknown')]\n",
        "print(df.shape)\n",
        "df.head(3)"
      ],
      "execution_count": 58,
      "outputs": [
        {
          "output_type": "stream",
          "text": [
            "(64826, 8)\n"
          ],
          "name": "stdout"
        },
        {
          "output_type": "execute_result",
          "data": {
            "text/html": [
              "<div>\n",
              "<style scoped>\n",
              "    .dataframe tbody tr th:only-of-type {\n",
              "        vertical-align: middle;\n",
              "    }\n",
              "\n",
              "    .dataframe tbody tr th {\n",
              "        vertical-align: top;\n",
              "    }\n",
              "\n",
              "    .dataframe thead th {\n",
              "        text-align: right;\n",
              "    }\n",
              "</style>\n",
              "<table border=\"1\" class=\"dataframe\">\n",
              "  <thead>\n",
              "    <tr style=\"text-align: right;\">\n",
              "      <th></th>\n",
              "      <th>LAT</th>\n",
              "      <th>LNG</th>\n",
              "      <th>ADDRESS</th>\n",
              "      <th>COUNTY</th>\n",
              "      <th>COMPANY_STATUS_CODE</th>\n",
              "      <th>COMPANY_TYPE_CODE</th>\n",
              "      <th>SIZE</th>\n",
              "      <th>INDUSTRY</th>\n",
              "    </tr>\n",
              "  </thead>\n",
              "  <tbody>\n",
              "    <tr>\n",
              "      <th>0</th>\n",
              "      <td>54.763626</td>\n",
              "      <td>-8.410592</td>\n",
              "      <td>Ardara, co donegal</td>\n",
              "      <td>donegal</td>\n",
              "      <td>8</td>\n",
              "      <td>0</td>\n",
              "      <td>4</td>\n",
              "      <td>unknown</td>\n",
              "    </tr>\n",
              "    <tr>\n",
              "      <th>1</th>\n",
              "      <td>54.486674</td>\n",
              "      <td>-8.273761</td>\n",
              "      <td>Finner avenue, bundoran, co. donegal.</td>\n",
              "      <td>donegal</td>\n",
              "      <td>8</td>\n",
              "      <td>1</td>\n",
              "      <td>4</td>\n",
              "      <td>financial intermediation except insurance and ...</td>\n",
              "    </tr>\n",
              "    <tr>\n",
              "      <th>2</th>\n",
              "      <td>55.135246</td>\n",
              "      <td>-7.453581</td>\n",
              "      <td>8, swilly gardens, buncrana, co. donegal.</td>\n",
              "      <td>donegal</td>\n",
              "      <td>8</td>\n",
              "      <td>1</td>\n",
              "      <td>4</td>\n",
              "      <td>general mechanical engineering</td>\n",
              "    </tr>\n",
              "  </tbody>\n",
              "</table>\n",
              "</div>"
            ],
            "text/plain": [
              "         LAT       LNG                                    ADDRESS   COUNTY  COMPANY_STATUS_CODE  COMPANY_TYPE_CODE  SIZE                                           INDUSTRY\n",
              "0  54.763626 -8.410592                         Ardara, co donegal  donegal                    8                  0     4                                            unknown\n",
              "1  54.486674 -8.273761      Finner avenue, bundoran, co. donegal.  donegal                    8                  1     4  financial intermediation except insurance and ...\n",
              "2  55.135246 -7.453581  8, swilly gardens, buncrana, co. donegal.  donegal                    8                  1     4                     general mechanical engineering"
            ]
          },
          "metadata": {
            "tags": []
          },
          "execution_count": 58
        }
      ]
    },
    {
      "cell_type": "code",
      "metadata": {
        "id": "xmKFVoPTz04q",
        "colab_type": "code",
        "outputId": "94f838ca-528c-451b-86a9-12c01469c194",
        "colab": {
          "base_uri": "https://localhost:8080/",
          "height": 294
        }
      },
      "source": [
        "le = preprocessing.LabelEncoder()\n",
        "df['ADDRESS'] = le.fit_transform(df['ADDRESS'])\n",
        "df['COUNTY'] = le.fit_transform(df['COUNTY'])\n",
        "df['INDUSTRY'] = le.fit_transform(df['INDUSTRY'])\n",
        "print(df.dtypes)\n",
        "df.head(3)"
      ],
      "execution_count": 59,
      "outputs": [
        {
          "output_type": "stream",
          "text": [
            "LAT                    float64\n",
            "LNG                    float64\n",
            "ADDRESS                  int64\n",
            "COUNTY                   int64\n",
            "COMPANY_STATUS_CODE      int64\n",
            "COMPANY_TYPE_CODE        int64\n",
            "SIZE                     int64\n",
            "INDUSTRY                 int64\n",
            "dtype: object\n"
          ],
          "name": "stdout"
        },
        {
          "output_type": "execute_result",
          "data": {
            "text/html": [
              "<div>\n",
              "<style scoped>\n",
              "    .dataframe tbody tr th:only-of-type {\n",
              "        vertical-align: middle;\n",
              "    }\n",
              "\n",
              "    .dataframe tbody tr th {\n",
              "        vertical-align: top;\n",
              "    }\n",
              "\n",
              "    .dataframe thead th {\n",
              "        text-align: right;\n",
              "    }\n",
              "</style>\n",
              "<table border=\"1\" class=\"dataframe\">\n",
              "  <thead>\n",
              "    <tr style=\"text-align: right;\">\n",
              "      <th></th>\n",
              "      <th>LAT</th>\n",
              "      <th>LNG</th>\n",
              "      <th>ADDRESS</th>\n",
              "      <th>COUNTY</th>\n",
              "      <th>COMPANY_STATUS_CODE</th>\n",
              "      <th>COMPANY_TYPE_CODE</th>\n",
              "      <th>SIZE</th>\n",
              "      <th>INDUSTRY</th>\n",
              "    </tr>\n",
              "  </thead>\n",
              "  <tbody>\n",
              "    <tr>\n",
              "      <th>0</th>\n",
              "      <td>54.763626</td>\n",
              "      <td>-8.410592</td>\n",
              "      <td>10742</td>\n",
              "      <td>1</td>\n",
              "      <td>8</td>\n",
              "      <td>0</td>\n",
              "      <td>4</td>\n",
              "      <td>734</td>\n",
              "    </tr>\n",
              "    <tr>\n",
              "      <th>1</th>\n",
              "      <td>54.486674</td>\n",
              "      <td>-8.273761</td>\n",
              "      <td>26126</td>\n",
              "      <td>1</td>\n",
              "      <td>8</td>\n",
              "      <td>1</td>\n",
              "      <td>4</td>\n",
              "      <td>122</td>\n",
              "    </tr>\n",
              "    <tr>\n",
              "      <th>2</th>\n",
              "      <td>55.135246</td>\n",
              "      <td>-7.453581</td>\n",
              "      <td>9281</td>\n",
              "      <td>1</td>\n",
              "      <td>8</td>\n",
              "      <td>1</td>\n",
              "      <td>4</td>\n",
              "      <td>144</td>\n",
              "    </tr>\n",
              "  </tbody>\n",
              "</table>\n",
              "</div>"
            ],
            "text/plain": [
              "         LAT       LNG  ADDRESS  COUNTY  COMPANY_STATUS_CODE  COMPANY_TYPE_CODE  SIZE  INDUSTRY\n",
              "0  54.763626 -8.410592    10742       1                    8                  0     4       734\n",
              "1  54.486674 -8.273761    26126       1                    8                  1     4       122\n",
              "2  55.135246 -7.453581     9281       1                    8                  1     4       144"
            ]
          },
          "metadata": {
            "tags": []
          },
          "execution_count": 59
        }
      ]
    },
    {
      "cell_type": "markdown",
      "metadata": {
        "id": "k1cBhZtnttph",
        "colab_type": "text"
      },
      "source": [
        "# Select feature"
      ]
    },
    {
      "cell_type": "code",
      "metadata": {
        "id": "OF02VUz9ND9D",
        "colab_type": "code",
        "outputId": "4a0d0d36-0138-4b49-da41-35bf727a8988",
        "colab": {
          "base_uri": "https://localhost:8080/",
          "height": 207
        }
      },
      "source": [
        "# We now split our dataset into input features (X) and the feature we wish to predict (Y).\n",
        "target = 'COUNTY'\n",
        "\n",
        "X = df.drop([target], axis=1).values\n",
        "X = df.drop([target], axis=1)\n",
        "Y = df[target].values\n",
        "\n",
        "print(df.dtypes)\n",
        "print(X.shape)\n",
        "print(Y.shape)"
      ],
      "execution_count": 60,
      "outputs": [
        {
          "output_type": "stream",
          "text": [
            "LAT                    float64\n",
            "LNG                    float64\n",
            "ADDRESS                  int64\n",
            "COUNTY                   int64\n",
            "COMPANY_STATUS_CODE      int64\n",
            "COMPANY_TYPE_CODE        int64\n",
            "SIZE                     int64\n",
            "INDUSTRY                 int64\n",
            "dtype: object\n",
            "(64826, 7)\n",
            "(64826,)\n"
          ],
          "name": "stdout"
        }
      ]
    },
    {
      "cell_type": "code",
      "metadata": {
        "id": "NhRGCQOTR85C",
        "colab_type": "code",
        "outputId": "55814f7d-f54f-4ca0-8f63-44b2d32bc5ef",
        "colab": {
          "base_uri": "https://localhost:8080/",
          "height": 173
        }
      },
      "source": [
        "# Statistical summary of the variables\n",
        "print(X.describe())"
      ],
      "execution_count": 61,
      "outputs": [
        {
          "output_type": "stream",
          "text": [
            "                LAT           LNG       ADDRESS  COMPANY_STATUS_CODE  COMPANY_TYPE_CODE          SIZE      INDUSTRY\n",
            "count  64826.000000  64826.000000  64826.000000         64826.000000       64826.000000  64826.000000  64826.000000\n",
            "mean      53.694364     -8.696442  23848.397819             4.717305          36.501373      2.201586    338.834958\n",
            "std        0.699855      0.568375  13181.155768             3.517527          18.032037      1.925098    242.670274\n",
            "min       51.509458    -10.251647      0.000000             1.000000           0.000000      0.000000      0.000000\n",
            "25%       53.268729     -9.050553  12522.000000             1.000000          19.000000      0.000000    114.000000\n",
            "50%       53.512564     -8.878837  24331.000000             8.000000          48.000000      4.000000    374.000000\n",
            "75%       54.122070     -8.314852  35032.750000             8.000000          53.000000      4.000000    550.000000\n",
            "max       55.374781     -6.123676  46470.000000            25.000000          63.000000      4.000000    790.000000\n"
          ],
          "name": "stdout"
        }
      ]
    },
    {
      "cell_type": "markdown",
      "metadata": {
        "id": "NrxrkzfZUKwK",
        "colab_type": "text"
      },
      "source": [
        "**Scale of all the variables is different. Therefore, feature scaling is important?????**"
      ]
    },
    {
      "cell_type": "code",
      "metadata": {
        "id": "q-wv93ElSb_n",
        "colab_type": "code",
        "outputId": "01c324fc-6c4b-40a5-9e54-c6c809974f52",
        "colab": {
          "base_uri": "https://localhost:8080/",
          "height": 155
        }
      },
      "source": [
        "# Check for class imbalance\n",
        "print(df.groupby(Y).size())"
      ],
      "execution_count": 62,
      "outputs": [
        {
          "output_type": "stream",
          "text": [
            "0    12648\n",
            "1    10925\n",
            "2    22459\n",
            "3     2186\n",
            "4     7926\n",
            "5     3896\n",
            "6     4786\n",
            "dtype: int64\n"
          ],
          "name": "stdout"
        }
      ]
    },
    {
      "cell_type": "code",
      "metadata": {
        "id": "YaMdEVlbWVyW",
        "colab_type": "code",
        "outputId": "1f1ed6a7-8940-4d89-b5ca-1d7f2bb00464",
        "colab": {
          "base_uri": "https://localhost:8080/",
          "height": 138
        }
      },
      "source": [
        "# data normalization to make sure that the scale of the data is similar for the proper initialization of the NN\n",
        "# Normalize features within range 0 (minimum) and 1 (maximum)\n",
        "scaler = MinMaxScaler(feature_range=(0, 1))\n",
        "X = scaler.fit_transform(X)\n",
        "X = pd.DataFrame(X)\n",
        "X.head(3)"
      ],
      "execution_count": 63,
      "outputs": [
        {
          "output_type": "execute_result",
          "data": {
            "text/html": [
              "<div>\n",
              "<style scoped>\n",
              "    .dataframe tbody tr th:only-of-type {\n",
              "        vertical-align: middle;\n",
              "    }\n",
              "\n",
              "    .dataframe tbody tr th {\n",
              "        vertical-align: top;\n",
              "    }\n",
              "\n",
              "    .dataframe thead th {\n",
              "        text-align: right;\n",
              "    }\n",
              "</style>\n",
              "<table border=\"1\" class=\"dataframe\">\n",
              "  <thead>\n",
              "    <tr style=\"text-align: right;\">\n",
              "      <th></th>\n",
              "      <th>0</th>\n",
              "      <th>1</th>\n",
              "      <th>2</th>\n",
              "      <th>3</th>\n",
              "      <th>4</th>\n",
              "      <th>5</th>\n",
              "      <th>6</th>\n",
              "    </tr>\n",
              "  </thead>\n",
              "  <tbody>\n",
              "    <tr>\n",
              "      <th>0</th>\n",
              "      <td>0.841887</td>\n",
              "      <td>0.445995</td>\n",
              "      <td>0.231160</td>\n",
              "      <td>0.291667</td>\n",
              "      <td>0.000000</td>\n",
              "      <td>1.0</td>\n",
              "      <td>0.929114</td>\n",
              "    </tr>\n",
              "    <tr>\n",
              "      <th>1</th>\n",
              "      <td>0.770237</td>\n",
              "      <td>0.479143</td>\n",
              "      <td>0.562212</td>\n",
              "      <td>0.291667</td>\n",
              "      <td>0.015873</td>\n",
              "      <td>1.0</td>\n",
              "      <td>0.154430</td>\n",
              "    </tr>\n",
              "    <tr>\n",
              "      <th>2</th>\n",
              "      <td>0.938030</td>\n",
              "      <td>0.677831</td>\n",
              "      <td>0.199720</td>\n",
              "      <td>0.291667</td>\n",
              "      <td>0.015873</td>\n",
              "      <td>1.0</td>\n",
              "      <td>0.182278</td>\n",
              "    </tr>\n",
              "  </tbody>\n",
              "</table>\n",
              "</div>"
            ],
            "text/plain": [
              "          0         1         2         3         4    5         6\n",
              "0  0.841887  0.445995  0.231160  0.291667  0.000000  1.0  0.929114\n",
              "1  0.770237  0.479143  0.562212  0.291667  0.015873  1.0  0.154430\n",
              "2  0.938030  0.677831  0.199720  0.291667  0.015873  1.0  0.182278"
            ]
          },
          "metadata": {
            "tags": []
          },
          "execution_count": 63
        }
      ]
    },
    {
      "cell_type": "code",
      "metadata": {
        "id": "R9IND4uJul-v",
        "colab_type": "code",
        "outputId": "8b375d5a-0086-4723-c69b-03c7e08f6288",
        "colab": {
          "base_uri": "https://localhost:8080/",
          "height": 35
        }
      },
      "source": [
        "# Y = preprocessing.scale(Y)\n",
        "# for a in Y:\n",
        "#   print(a)\n",
        "np.unique(Y)"
      ],
      "execution_count": 64,
      "outputs": [
        {
          "output_type": "execute_result",
          "data": {
            "text/plain": [
              "array([0, 1, 2, 3, 4, 5, 6])"
            ]
          },
          "metadata": {
            "tags": []
          },
          "execution_count": 64
        }
      ]
    },
    {
      "cell_type": "code",
      "metadata": {
        "id": "LX28rRAOWlf3",
        "colab_type": "code",
        "outputId": "25c61d7d-57c7-4a73-9170-1325acc43cfc",
        "colab": {
          "base_uri": "https://localhost:8080/",
          "height": 138
        }
      },
      "source": [
        "# Convert target Y to one hot encoded Y for Neural Network\n",
        "# Y = pd.get_dummies(Y)\n",
        "# If target is in string form, use following code:\n",
        "# First encode target values as integers from string\n",
        "# Then perform one hot encoding\n",
        "\n",
        "encoder = LabelEncoder()\n",
        "encoder.fit(Y)\n",
        "Y = encoder.transform(Y)\n",
        "Y = np_utils.to_categorical(Y)\n",
        "\n",
        "Y"
      ],
      "execution_count": 65,
      "outputs": [
        {
          "output_type": "execute_result",
          "data": {
            "text/plain": [
              "array([[0., 1., 0., ..., 0., 0., 0.],\n",
              "       [0., 1., 0., ..., 0., 0., 0.],\n",
              "       [0., 1., 0., ..., 0., 0., 0.],\n",
              "       ...,\n",
              "       [1., 0., 0., ..., 0., 0., 0.],\n",
              "       [1., 0., 0., ..., 0., 0., 0.],\n",
              "       [1., 0., 0., ..., 0., 0., 0.]], dtype=float32)"
            ]
          },
          "metadata": {
            "tags": []
          },
          "execution_count": 65
        }
      ]
    },
    {
      "cell_type": "code",
      "metadata": {
        "id": "UvHSPfP2Wtqg",
        "colab_type": "code",
        "colab": {}
      },
      "source": [
        "# For Keras, convert dataframe to array values (Inbuilt requirement of Keras)\n",
        "# X = X.values\n",
        "# Y = Y.values"
      ],
      "execution_count": 0,
      "outputs": []
    },
    {
      "cell_type": "code",
      "metadata": {
        "id": "tCmVN3QGRm9e",
        "colab_type": "code",
        "colab": {}
      },
      "source": [
        "# https://www.datacamp.com/community/tutorials/k-nearest-neighbor-classification-scikit-learn\n",
        "# Split dataset into training set and test set\n",
        "X_train, X_test, y_train, y_test = train_test_split(X, Y, test_size=0.3) # 70% training and 30% test"
      ],
      "execution_count": 0,
      "outputs": []
    },
    {
      "cell_type": "markdown",
      "metadata": {
        "id": "O2AYBRDmxBMz",
        "colab_type": "text"
      },
      "source": [
        "# Model"
      ]
    },
    {
      "cell_type": "code",
      "metadata": {
        "id": "T_uxsVPzwvK-",
        "colab_type": "code",
        "outputId": "c4e37c28-c283-46c7-cd3e-c2ac4b3a52c2",
        "colab": {
          "base_uri": "https://localhost:8080/",
          "height": 35
        }
      },
      "source": [
        "#Create KNN Classifier\n",
        "knn = KNeighborsClassifier(n_neighbors=7)\n",
        "\n",
        "#Train the model using the training sets\n",
        "knn.fit(X_train, y_train)\n",
        "\n",
        "#Predict the response for test dataset\n",
        "y_pred = knn.predict(X_test)\n",
        "\n",
        "# Model Accuracy, how often is the classifier correct?\n",
        "print(\"Accuracy:\",metrics.accuracy_score(y_test, y_pred))"
      ],
      "execution_count": 68,
      "outputs": [
        {
          "output_type": "stream",
          "text": [
            "Accuracy: 0.8973159193747429\n"
          ],
          "name": "stdout"
        }
      ]
    },
    {
      "cell_type": "code",
      "metadata": {
        "id": "oUmdyKc1hAVj",
        "colab_type": "code",
        "colab": {}
      },
      "source": [
        ""
      ],
      "execution_count": 0,
      "outputs": []
    }
  ]
}